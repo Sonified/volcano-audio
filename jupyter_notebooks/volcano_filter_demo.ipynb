{
  "cells": [
    {
      "cell_type": "markdown",
      "metadata": {},
      "source": [
        "# Monitored Volcanoes Filter Demo\n",
        "\n",
        "This notebook loads `../reference/monitored_volcanoes.json` and filters to actual volcanoes using the presence of `vnum` (Smithsonian number).\n"
      ]
    },
    {
      "cell_type": "code",
      "execution_count": 1,
      "metadata": {},
      "outputs": [
        {
          "data": {
            "text/plain": [
              "(68, 'Akutan')"
            ]
          },
          "execution_count": 1,
          "metadata": {},
          "output_type": "execute_result"
        }
      ],
      "source": [
        "from pathlib import Path\n",
        "import json\n",
        "\n",
        "REFERENCE_JSON = Path('../reference/monitored_volcanoes.json')\n",
        "\n",
        "with open(REFERENCE_JSON, 'r') as f:\n",
        "    data = json.load(f)\n",
        "\n",
        "len(data), data[0].get('volcano_name')\n"
      ]
    },
    {
      "cell_type": "code",
      "execution_count": 2,
      "metadata": {},
      "outputs": [
        {
          "data": {
            "text/plain": [
              "66"
            ]
          },
          "execution_count": 2,
          "metadata": {},
          "output_type": "execute_result"
        }
      ],
      "source": [
        "def filter_actual_volcanoes(volcano_list):\n",
        "    \"\"\"Remove regional aggregate entries, keep only specific volcanoes\"\"\"\n",
        "    return [v for v in volcano_list if v.get('vnum') is not None and v.get('vnum') != \"\"]\n",
        "\n",
        "actual_volcanoes = filter_actual_volcanoes(data)\n",
        "len(actual_volcanoes)\n"
      ]
    },
    {
      "cell_type": "code",
      "execution_count": 3,
      "metadata": {},
      "outputs": [
        {
          "name": "stdout",
          "output_type": "stream",
          "text": [
            "Akutan\t311320\tGREEN\tNORMAL\n",
            "Aniakchak\t312090\tGREEN\tNORMAL\n",
            "Atka volcanic complex\t311160\tGREEN\tNORMAL\n",
            "Augustine\t313010\tGREEN\tNORMAL\n",
            "Cleveland\t311240\tGREEN\tNORMAL\n",
            "Dutton\t312011\tGREEN\tNORMAL\n",
            "Edgecumbe\t315040\tGREEN\tNORMAL\n",
            "Fisher\t311350\tGREEN\tNORMAL\n",
            "Gareloi\t311070\tGREEN\tNORMAL\n",
            "Great Sitkin\t311120\tORANGE\tWATCH\n",
            "Griggs\t312190\tGREEN\tNORMAL\n",
            "Iliamna\t313020\tGREEN\tNORMAL\n",
            "Isanotski\t311370\tGREEN\tNORMAL\n",
            "Kanaga\t311110\tGREEN\tNORMAL\n",
            "Katmai\t312170\tGREEN\tNORMAL\n",
            "Korovin\t311161\tGREEN\tNORMAL\n",
            "Little Sitkin\t311050\tGREEN\tNORMAL\n",
            "Mageik\t312150\tGREEN\tNORMAL\n",
            "Makushin\t311310\tGREEN\tNORMAL\n",
            "Martin\t312140\tGREEN\tNORMAL\n",
            "Novarupta\t312180\tGREEN\tNORMAL\n",
            "Okmok\t311290\tGREEN\tNORMAL\n",
            "Pavlof\t312030\tGREEN\tNORMAL\n",
            "Redoubt\t313030\tGREEN\tNORMAL\n",
            "Semisopochnoi\t311060\tGREEN\tNORMAL\n",
            "Shishaldin\t311360\tYELLOW\tADVISORY\n",
            "Snowy Mountain\t312200\tGREEN\tNORMAL\n",
            "Spurr\t313040\tGREEN\tNORMAL\n",
            "Takawangha\t311090\tGREEN\tNORMAL\n",
            "Tanaga\t311080\tGREEN\tNORMAL\n",
            "Trident\t312160\tGREEN\tNORMAL\n",
            "Ugashik-Peulik\t312130\tGREEN\tNORMAL\n",
            "Ukinrek Maars\t312131\tGREEN\tNORMAL\n",
            "Veniaminof\t312070\tGREEN\tNORMAL\n",
            "Westdahl\t311340\tGREEN\tNORMAL\n",
            "Wrangell\t315020\tGREEN\tNORMAL\n",
            "Clear Lake Volcanic Field\t323100\tGREEN\tNORMAL\n",
            "Coso Volcanic Field\t323180\tGREEN\tNORMAL\n",
            "Lassen Volcanic Center\t323080\tGREEN\tNORMAL\n",
            "Long Valley Caldera\t323822\tGREEN\tNORMAL\n",
            "Mammoth Mountain\t323150\tGREEN\tNORMAL\n",
            "Medicine Lake volcano\t323020\tGREEN\tNORMAL\n",
            "Mono Lake Volcanic Field\t323110\tGREEN\tNORMAL\n",
            "Mono-Inyo Craters\t323120\tGREEN\tNORMAL\n",
            "Mount Shasta\t323010\tGREEN\tNORMAL\n",
            "Salton Buttes\t323200\tGREEN\tNORMAL\n",
            "Ubehebe Craters\t323160\tGREEN\tNORMAL\n",
            "Crater Lake\t322160\tGREEN\tNORMAL\n",
            "Glacier Peak\t321020\tGREEN\tNORMAL\n",
            "Mount Adams\t321040\tGREEN\tNORMAL\n",
            "Mount Baker\t321010\tGREEN\tNORMAL\n",
            "Mount Hood\t322010\tGREEN\tNORMAL\n",
            "Mount Jefferson\t322020\tGREEN\tNORMAL\n",
            "Mount Rainier\t321030\tGREEN\tNORMAL\n",
            "Mount St. Helens\t321050\tGREEN\tNORMAL\n",
            "Newberry\t322110\tGREEN\tNORMAL\n",
            "Three Sisters\t322070\tGREEN\tNORMAL\n",
            "Haleakala\t332060\tGREEN\tNORMAL\n",
            "Hualalai\t332040\tGREEN\tNORMAL\n",
            "Kilauea\t332010\tORANGE\tWATCH\n",
            "Mauna Kea\t332030\tGREEN\tNORMAL\n",
            "Mauna Loa\t332020\tGREEN\tNORMAL\n",
            "Ofu-Olosega\t244010\tGREEN\tNORMAL\n",
            "Ta'u Island\t244001\tGREEN\tNORMAL\n",
            "Tutuila Island\t244020\tGREEN\tNORMAL\n",
            "Yellowstone\t325010\tGREEN\tNORMAL\n"
          ]
        }
      ],
      "source": [
        "# Preview first 15 actual volcanoes\n",
        "for v in actual_volcanoes[:100]:\n",
        "    print(f\"{v['volcano_name']}\\t{v['vnum']}\\t{v['color_code']}\\t{v['alert_level']}\")\n"
      ]
    },
    {
      "cell_type": "code",
      "execution_count": 4,
      "metadata": {},
      "outputs": [
        {
          "name": "stdout",
          "output_type": "stream",
          "text": [
            "66\n"
          ]
        },
        {
          "data": {
            "text/plain": [
              "[{'volcano_name': 'Akutan',\n",
              "  'vnum': '311320',\n",
              "  'sent_utc': '2019-09-06 18:29:39',\n",
              "  'sent_unixtime': 1567794579,\n",
              "  'alert_level': 'NORMAL',\n",
              "  'color_code': 'GREEN',\n",
              "  'volcano_cd': 'ak6',\n",
              "  'obs_fullname': 'Alaska Volcano Observatory',\n",
              "  'obs_abbr': 'avo',\n",
              "  'notice_type_cd': 'IS',\n",
              "  'notice_identifier': 'DOI-USGS-AVO-2019-09-04T15:47:55-08:00',\n",
              "  'notice_url': 'https://volcanoes.usgs.gov/hans-public/notice/DOI-USGS-AVO-2019-09-04T15:47:55-08:00',\n",
              "  'notice_data': 'https://volcanoes.usgs.gov/hans-public/api/notice/getNotice/DOI-USGS-AVO-2019-09-04T15:47:55-08:00'},\n",
              " {'volcano_name': 'Aniakchak',\n",
              "  'vnum': '312090',\n",
              "  'sent_utc': '2024-07-08 20:52:29',\n",
              "  'sent_unixtime': 1720471949,\n",
              "  'alert_level': 'NORMAL',\n",
              "  'color_code': 'GREEN',\n",
              "  'volcano_cd': 'ak14',\n",
              "  'obs_fullname': 'Alaska Volcano Observatory',\n",
              "  'obs_abbr': 'avo',\n",
              "  'notice_type_cd': 'VV',\n",
              "  'notice_identifier': 'DOI-USGS-AVO-2024-07-08T20:02:22+00:00',\n",
              "  'notice_url': 'https://volcanoes.usgs.gov/hans-public/notice/DOI-USGS-AVO-2024-07-08T20:02:22+00:00',\n",
              "  'notice_data': 'https://volcanoes.usgs.gov/hans-public/api/notice/getNotice/DOI-USGS-AVO-2024-07-08T20:02:22+00:00'},\n",
              " {'volcano_name': 'Atka volcanic complex',\n",
              "  'vnum': '311160',\n",
              "  'sent_utc': '2025-05-05 20:00:48',\n",
              "  'sent_unixtime': 1746475248,\n",
              "  'alert_level': 'NORMAL',\n",
              "  'color_code': 'GREEN',\n",
              "  'volcano_cd': 'ak17',\n",
              "  'obs_fullname': 'Alaska Volcano Observatory',\n",
              "  'obs_abbr': 'avo',\n",
              "  'notice_type_cd': 'VV',\n",
              "  'notice_identifier': 'DOI-USGS-AVO-2025-05-05T17:00:22+00:00',\n",
              "  'notice_url': 'https://volcanoes.usgs.gov/hans-public/notice/DOI-USGS-AVO-2025-05-05T17:00:22+00:00',\n",
              "  'notice_data': 'https://volcanoes.usgs.gov/hans-public/api/notice/getNotice/DOI-USGS-AVO-2025-05-05T17:00:22+00:00'}]"
            ]
          },
          "execution_count": 4,
          "metadata": {},
          "output_type": "execute_result"
        }
      ],
      "source": [
        "import sys\n",
        "from pathlib import Path\n",
        "\n",
        "# Add repo root to sys.path so we can import python_code.*\n",
        "repo_root = Path('..').resolve()\n",
        "if str(repo_root) not in sys.path:\n",
        "    sys.path.insert(0, str(repo_root))\n",
        "\n",
        "from python_code.data_management import get_monitored_volcanoes\n",
        "\n",
        "volcanoes = get_monitored_volcanoes()\n",
        "print(len(volcanoes))\n",
        "volcanoes[:3]\n"
      ]
    },
    {
      "cell_type": "code",
      "execution_count": 6,
      "metadata": {},
      "outputs": [],
      "source": [
        "# # Quick audit sample (limit 3)\n",
        "# import sys\n",
        "# from pathlib import Path\n",
        "# repo_root = Path('..').resolve()\n",
        "# if str(repo_root) not in sys.path:\n",
        "#     sys.path.insert(0, str(repo_root))\n",
        "\n",
        "# from python_code.audit_station_availability import audit_volcanoes\n",
        "\n",
        "# sample_results = audit_volcanoes(limit=100, radius_km=50)\n",
        "# len(sample_results), sample_results[0]['name'] if sample_results else None\n"
      ]
    },
    {
      "cell_type": "code",
      "execution_count": null,
      "metadata": {},
      "outputs": [
        {
          "data": {
            "application/vnd.jupyter.widget-view+json": {
              "model_id": "10066cd2798a44599c6869fbb3f36c9c",
              "version_major": 2,
              "version_minor": 0
            },
            "text/plain": [
              "VBox(children=(HBox(children=(Dropdown(description='Volcano:', options=('Akutan', 'Aniakchak', 'Atka volcanic …"
            ]
          },
          "execution_count": 8,
          "metadata": {},
          "output_type": "execute_result"
        }
      ],
      "source": [
        "# Interactive Audify UI (seismic or infrasound)\n",
        "import sys, json\n",
        "from pathlib import Path\n",
        "from datetime import datetime, timedelta, timezone\n",
        "import ipywidgets as widgets\n",
        "from IPython.display import display, clear_output\n",
        "\n",
        "# Ensure repo root import\n",
        "repo_root = Path('..').resolve()\n",
        "if str(repo_root) not in sys.path:\n",
        "    sys.path.insert(0, str(repo_root))\n",
        "\n",
        "from python_code.seismic_utils import compute_time_window, fetch_seismic_data\n",
        "from python_code.audio_utils import create_audio_file, open_audio_file\n",
        "\n",
        "ACTIVE_PATH = repo_root / 'data' / 'reference' / 'active_volcano_stations.json'\n",
        "with open(ACTIVE_PATH, 'r') as f:\n",
        "    active = json.load(f)\n",
        "\n",
        "# Build volcano list\n",
        "volcano_names = sorted({a['volcano'] for a in active})\n",
        "volcano_dd = widgets.Dropdown(options=volcano_names, description='Volcano:')\n",
        "\n",
        "type_dd = widgets.Dropdown(options=['seismic','infrasound'], value='seismic', description='Type:')\n",
        "hours_int = widgets.IntSlider(value=3, min=1, max=48, step=1, description='Last hours:')\n",
        "\n",
        "channel_dd = widgets.Dropdown(options=[], description='Channel:')\n",
        "button = widgets.Button(description='Audify', button_style='primary')\n",
        "log_out = widgets.Output()\n",
        "\n",
        "# Helper: pick best channels (prefer Z, then N/E)\n",
        "def channels_for(volcano, kind):\n",
        "    items = [a for a in active if a['volcano']==volcano and a['type']==kind]\n",
        "    # Prefer Z first\n",
        "    def score(ch):\n",
        "        c = ch['channel']\n",
        "        if len(c)>=3 and c[2]=='Z':\n",
        "            return 0\n",
        "        if len(c)>=3 and c[2] in ('N','E'):\n",
        "            return 1\n",
        "        return 2\n",
        "    items.sort(key=score)\n",
        "    # Display label: NET.STA.LOC.CHAN (sr)\n",
        "    options = []\n",
        "    for ch in items:\n",
        "        loc = ch.get('location') or ''\n",
        "        label = f\"{ch['network']}.{ch['station']}.{loc or '--'}.{ch['channel']} ({int(ch.get('sample_rate',0))} Hz)\"\n",
        "        options.append((label, ch))\n",
        "    return options\n",
        "\n",
        "# Update channel list when volcano or type changes\n",
        "def update_channels(*args):\n",
        "    opts = channels_for(volcano_dd.value, type_dd.value)\n",
        "    channel_dd.options = opts\n",
        "\n",
        "volcano_dd.observe(update_channels, names='value')\n",
        "type_dd.observe(update_channels, names='value')\n",
        "update_channels()\n",
        "\n",
        "@log_out.capture(clear_output=True)\n",
        "def on_click(b):\n",
        "    ch = channel_dd.value\n",
        "    if not ch:\n",
        "        print('Select a channel')\n",
        "        return\n",
        "    # Time window: last N hours\n",
        "    end_dt = datetime.now(timezone.utc)\n",
        "    start_dt = end_dt - timedelta(hours=hours_int.value)\n",
        "    start_str = start_dt.strftime('%Y-%m-%dT%H:%M:%S')\n",
        "    end_str = end_dt.strftime('%Y-%m-%dT%H:%M:%S')\n",
        "\n",
        "    # Fetch and audify\n",
        "    n,s,l,c = ch['network'], ch['station'], (ch.get('location') or ''), ch['channel']\n",
        "    fname = repo_root / 'Audio_Files' / f\"{volcano_dd.value}_{n}_{s}_{l or '--'}_{c}_{hours_int.value}h.mseed\"\n",
        "    wav = repo_root / 'Audio_Files' / f\"{volcano_dd.value}_{n}_{s}_{l or '--'}_{c}_{hours_int.value}h.wav\"\n",
        "    try:\n",
        "        st = fetch_seismic_data(start_str, end_str, str(fname), network=n, station=s, channel=c, location=l)\n",
        "        create_audio_file(st, sampling_rate=44100, audio_filename=str(wav))\n",
        "        open_audio_file(str(wav))\n",
        "    except Exception as e:\n",
        "        print('Error:', e)\n",
        "\n",
        "button.on_click(on_click)\n",
        "\n",
        "ui = widgets.VBox([\n",
        "    widgets.HBox([volcano_dd, type_dd, hours_int]),\n",
        "    channel_dd,\n",
        "    button,\n",
        "    log_out\n",
        "])\n",
        "ui\n"
      ]
    },
    {
      "cell_type": "code",
      "execution_count": null,
      "metadata": {},
      "outputs": [
        {
          "data": {
            "application/vnd.jupyter.widget-view+json": {
              "model_id": "e86b1bd00ff346b58558409a75d30fa4",
              "version_major": 2,
              "version_minor": 0
            },
            "text/plain": [
              "VBox(children=(HBox(children=(Dropdown(description='Volcano:', options=('Great Sitkin', 'Kilauea', 'Shishaldin…"
            ]
          },
          "execution_count": 9,
          "metadata": {},
          "output_type": "execute_result"
        }
      ],
      "source": [
        "\n"
      ]
    },
    {
      "cell_type": "code",
      "execution_count": 10,
      "metadata": {},
      "outputs": [
        {
          "data": {
            "application/vnd.jupyter.widget-view+json": {
              "model_id": "85e81ce2e2ff430baed6bf65341cc985",
              "version_major": 2,
              "version_minor": 0
            },
            "text/plain": [
              "VBox(children=(HBox(children=(Dropdown(description='Volcano:', options=('Great Sitkin', 'Kilauea', 'Shishaldin…"
            ]
          },
          "execution_count": 10,
          "metadata": {},
          "output_type": "execute_result"
        }
      ],
      "source": [
        "# Active-volcano-only Audify UI\n",
        "import sys, json\n",
        "from pathlib import Path\n",
        "from datetime import datetime, timedelta, timezone\n",
        "import ipywidgets as widgets\n",
        "from IPython.display import display, clear_output\n",
        "\n",
        "# Ensure repo root import\n",
        "repo_root = Path('..').resolve()\n",
        "if str(repo_root) not in sys.path:\n",
        "    sys.path.insert(0, str(repo_root))\n",
        "\n",
        "from python_code.seismic_utils import fetch_seismic_data\n",
        "from python_code.audio_utils import create_audio_file, open_audio_file\n",
        "\n",
        "ACTIVE_PATH = repo_root / 'data' / 'reference' / 'active_volcano_stations.json'\n",
        "MONITORED_PATH = repo_root / 'reference' / 'monitored_volcanoes.json'\n",
        "with open(ACTIVE_PATH, 'r') as f:\n",
        "    active = json.load(f)\n",
        "with open(MONITORED_PATH, 'r') as f:\n",
        "    monitored = json.load(f)\n",
        "\n",
        "# Currently active per USGS (non-GREEN or non-NORMAL)\n",
        "def is_alerting(v):\n",
        "    return (v.get('color_code') and v['color_code'] != 'GREEN') or (v.get('alert_level') and v['alert_level'] != 'NORMAL')\n",
        "\n",
        "active_names_with_channels = {a['volcano'] for a in active}\n",
        "active_usgs_names = {v['volcano_name'] for v in monitored if v.get('vnum') and is_alerting(v)}\n",
        "volcano_names_active = sorted(active_names_with_channels & active_usgs_names)\n",
        "\n",
        "volcano_dd2 = widgets.Dropdown(options=volcano_names_active, description='Volcano:')\n",
        "type_dd2 = widgets.Dropdown(options=['seismic','infrasound'], value='seismic', description='Type:')\n",
        "hours_int2 = widgets.IntSlider(value=6, min=1, max=48, step=1, description='Last hours:')\n",
        "\n",
        "channel_dd2 = widgets.Dropdown(options=[], description='Channel:')\n",
        "button2 = widgets.Button(description='Audify', button_style='primary')\n",
        "button2.disabled = True\n",
        "log_out2 = widgets.Output()\n",
        "\n",
        "# Helper to build channel options, prefer Z then N/E\n",
        "def channels_for(volcano, kind):\n",
        "    items = [a for a in active if a['volcano']==volcano and a['type']==kind]\n",
        "    def score(ch):\n",
        "        c = ch['channel']\n",
        "        if len(c)>=3 and c[2]=='Z':\n",
        "            return 0\n",
        "        if len(c)>=3 and c[2] in ('N','E'):\n",
        "            return 1\n",
        "        return 2\n",
        "    items.sort(key=score)\n",
        "    options = []\n",
        "    for ch in items:\n",
        "        loc = ch.get('location') or ''\n",
        "        label = f\"{ch['network']}.{ch['station']}.{loc or '--'}.{ch['channel']} ({int(ch.get('sample_rate',0))} Hz)\"\n",
        "        options.append((label, ch))\n",
        "    return options\n",
        "\n",
        "# Update on selection change\n",
        "def update_channels2(*args):\n",
        "    opts = channels_for(volcano_dd2.value, type_dd2.value)\n",
        "    channel_dd2.options = opts\n",
        "    if opts:\n",
        "        channel_dd2.value = opts[0][1]\n",
        "        button2.disabled = False\n",
        "    else:\n",
        "        channel_dd2.value = None\n",
        "        button2.disabled = True\n",
        "\n",
        "volcano_dd2.observe(update_channels2, names='value')\n",
        "type_dd2.observe(update_channels2, names='value')\n",
        "update_channels2()\n",
        "\n",
        "@log_out2.capture(clear_output=True)\n",
        "def on_click2(b):\n",
        "    ch = channel_dd2.value\n",
        "    if not ch:\n",
        "        print('Select a channel')\n",
        "        return\n",
        "    end_dt = datetime.now(timezone.utc)\n",
        "    start_dt = end_dt - timedelta(hours=hours_int2.value)\n",
        "    start_str = start_dt.strftime('%Y-%m-%dT%H:%M:%S')\n",
        "    end_str = end_dt.strftime('%Y-%m-%dT%H:%M:%S')\n",
        "\n",
        "    n,s,l,c = ch['network'], ch['station'], (ch.get('location') or ''), ch['channel']\n",
        "    fname = repo_root / 'Audio_Files' / f\"{volcano_dd2.value}_{n}_{s}_{l or '--'}_{c}_{hours_int2.value}h.mseed\"\n",
        "    wav = repo_root / 'Audio_Files' / f\"{volcano_dd2.value}_{n}_{s}_{l or '--'}_{c}_{hours_int2.value}h.wav\"\n",
        "    try:\n",
        "        st = fetch_seismic_data(start_str, end_str, str(fname), network=n, station=s, channel=c, location=l)\n",
        "        if not st or len(st)==0:\n",
        "            print('No data returned for this channel/time window.')\n",
        "            return\n",
        "        create_audio_file(st, sampling_rate=44100, audio_filename=str(wav))\n",
        "        open_audio_file(str(wav))\n",
        "    except Exception as e:\n",
        "        print('Error:', e)\n",
        "\n",
        "button2.on_click(on_click2)\n",
        "\n",
        "ui_active = widgets.VBox([\n",
        "    widgets.HBox([volcano_dd2, type_dd2, hours_int2]),\n",
        "    channel_dd2,\n",
        "    button2,\n",
        "    log_out2\n",
        "])\n",
        "ui_active\n"
      ]
    },
    {
      "cell_type": "code",
      "execution_count": null,
      "metadata": {},
      "outputs": [],
      "source": [
        "# Preview summary CSV written by the audit script\n",
        "from pathlib import Path\n",
        "import pandas as pd\n",
        "\n",
        "csv_path = Path('../data/reference/volcano_station_summary.csv')\n",
        "if csv_path.exists():\n",
        "    df = pd.read_csv(csv_path)\n",
        "    df.head(10)\n",
        "else:\n",
        "    print('Summary CSV not found; run the audit cell first.')\n"
      ]
    }
  ],
  "metadata": {
    "kernelspec": {
      "display_name": "base",
      "language": "python",
      "name": "python3"
    },
    "language_info": {
      "codemirror_mode": {
        "name": "ipython",
        "version": 3
      },
      "file_extension": ".py",
      "mimetype": "text/x-python",
      "name": "python",
      "nbconvert_exporter": "python",
      "pygments_lexer": "ipython3",
      "version": "3.12.2"
    }
  },
  "nbformat": 4,
  "nbformat_minor": 2
}
